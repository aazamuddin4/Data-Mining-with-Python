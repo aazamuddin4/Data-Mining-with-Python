{
 "cells": [
  {
   "cell_type": "code",
   "execution_count": 1,
   "id": "400a6128",
   "metadata": {},
   "outputs": [],
   "source": [
    "%matplotlib inline\n",
    "import numpy as np, scipy as sp, matplotlib.pyplot as plt"
   ]
  },
  {
   "cell_type": "code",
   "execution_count": 2,
   "id": "23d4cee2",
   "metadata": {},
   "outputs": [
    {
     "name": "stdout",
     "output_type": "stream",
     "text": [
      "[[ 1  2  3]\n",
      " [ 1  1 -3]]\n"
     ]
    }
   ],
   "source": [
    "#Transpose\n",
    "#Transposing a dataset means swapping its rows and columns so that the rows become columns and the columns become rows\n",
    "#For many chart types in Datawrapper, transposing a table means that the x-axis and y-axis swap \n",
    "#Often, when your chart looks funny, all you need to do is to transpose the data \n",
    "A = np.array([[1, 1], [2, 1], [3, -3]])\n",
    "print(A.transpose())"
   ]
  },
  {
   "cell_type": "code",
   "execution_count": 3,
   "id": "35aa1138",
   "metadata": {},
   "outputs": [
    {
     "data": {
      "text/plain": [
       "array([[11],\n",
       "       [39],\n",
       "       [53]])"
      ]
     },
     "execution_count": 3,
     "metadata": {},
     "output_type": "execute_result"
    }
   ],
   "source": [
    "#Multiplication of matrices and vector\n",
    "#Note that we used the reshape() function to reshape the vector into a 2 by 1 matrix (the -1 tells Numpy to guess the remaining number). \n",
    "#Without it, you would end with a one-dimensional array instead of a two-dimensional array here (a matrix with a single column)\n",
    "A = np.array([\n",
    "    [1, 2],\n",
    "    [5, 6],\n",
    "    [7, 8]\n",
    "])\n",
    "v = np.array([3, 4]).reshape(-1, 1)\n",
    "A @ v"
   ]
  },
  {
   "cell_type": "code",
   "execution_count": 15,
   "id": "ddfe255e",
   "metadata": {},
   "outputs": [],
   "source": [
    "#Covariance Matrix\n",
    "#The dot product of a matrix with its transpose corresponds to the covariance matrix\n",
    "#Covariance measures how much two random variables vary together in a population\n",
    "#When the population contains higher dimensions or more random variables, a matrix is used to describe the relationship between different dimensions\n",
    "x = np.random.normal(10, 2, 100)\n",
    "y = x * 1.5 + np.random.normal(25, 5, 100)\n",
    "z = x * 2 + np.random.normal(0, 1, 100)"
   ]
  },
  {
   "cell_type": "code",
   "execution_count": 16,
   "id": "52869c7c",
   "metadata": {},
   "outputs": [
    {
     "data": {
      "text/plain": [
       "array([[ 3.85849444,  5.47036789,  7.87758583],\n",
       "       [ 5.47036789, 25.24911365, 11.0764449 ],\n",
       "       [ 7.87758583, 11.0764449 , 16.82050492]])"
      ]
     },
     "execution_count": 16,
     "metadata": {},
     "output_type": "execute_result"
    }
   ],
   "source": [
    "np.cov([x, y, z])"
   ]
  },
  {
   "cell_type": "code",
   "execution_count": 17,
   "id": "bda6c857",
   "metadata": {},
   "outputs": [
    {
     "data": {
      "text/plain": [
       "(100, 3)"
      ]
     },
     "execution_count": 17,
     "metadata": {},
     "output_type": "execute_result"
    }
   ],
   "source": [
    "X = np.vstack([x, y, z]).T\n",
    "X.shape"
   ]
  },
  {
   "cell_type": "code",
   "execution_count": 18,
   "id": "cf7e0dc9",
   "metadata": {},
   "outputs": [],
   "source": [
    "X = X - X.mean(axis=0)"
   ]
  },
  {
   "cell_type": "code",
   "execution_count": 19,
   "id": "5b689517",
   "metadata": {},
   "outputs": [
    {
     "data": {
      "text/plain": [
       "array([[ 3.85849444,  5.47036789,  7.87758583],\n",
       "       [ 5.47036789, 25.24911365, 11.0764449 ],\n",
       "       [ 7.87758583, 11.0764449 , 16.82050492]])"
      ]
     },
     "execution_count": 19,
     "metadata": {},
     "output_type": "execute_result"
    }
   ],
   "source": [
    "(X.T @ X) / (X.shape[0] - 1)"
   ]
  }
 ],
 "metadata": {
  "kernelspec": {
   "display_name": "Python 3",
   "language": "python",
   "name": "python3"
  },
  "language_info": {
   "codemirror_mode": {
    "name": "ipython",
    "version": 3
   },
   "file_extension": ".py",
   "mimetype": "text/x-python",
   "name": "python",
   "nbconvert_exporter": "python",
   "pygments_lexer": "ipython3",
   "version": "3.8.8"
  }
 },
 "nbformat": 4,
 "nbformat_minor": 5
}
