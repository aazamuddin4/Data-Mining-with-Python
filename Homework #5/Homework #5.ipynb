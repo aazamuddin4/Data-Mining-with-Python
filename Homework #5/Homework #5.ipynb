{
 "cells": [
  {
   "cell_type": "code",
   "execution_count": 4,
   "id": "42d71f68",
   "metadata": {},
   "outputs": [],
   "source": [
    "import pandas as pd"
   ]
  },
  {
   "cell_type": "code",
   "execution_count": 5,
   "id": "73872d71",
   "metadata": {},
   "outputs": [],
   "source": [
    "dataset = pd.read_csv(\"SQLQuery.csv\")"
   ]
  },
  {
   "cell_type": "code",
   "execution_count": 6,
   "id": "e13dd3e7",
   "metadata": {},
   "outputs": [
    {
     "data": {
      "text/html": [
       "<div>\n",
       "<style scoped>\n",
       "    .dataframe tbody tr th:only-of-type {\n",
       "        vertical-align: middle;\n",
       "    }\n",
       "\n",
       "    .dataframe tbody tr th {\n",
       "        vertical-align: top;\n",
       "    }\n",
       "\n",
       "    .dataframe thead th {\n",
       "        text-align: right;\n",
       "    }\n",
       "</style>\n",
       "<table border=\"1\" class=\"dataframe\">\n",
       "  <thead>\n",
       "    <tr style=\"text-align: right;\">\n",
       "      <th></th>\n",
       "      <th>datetime</th>\n",
       "      <th>Vancouver</th>\n",
       "    </tr>\n",
       "  </thead>\n",
       "  <tbody>\n",
       "    <tr>\n",
       "      <th>0</th>\n",
       "      <td>2016-08-19 23:00:00.000</td>\n",
       "      <td>307.00</td>\n",
       "    </tr>\n",
       "    <tr>\n",
       "      <th>1</th>\n",
       "      <td>2016-08-19 22:00:00.000</td>\n",
       "      <td>306.69</td>\n",
       "    </tr>\n",
       "    <tr>\n",
       "      <th>2</th>\n",
       "      <td>2016-08-20 00:00:00.000</td>\n",
       "      <td>306.69</td>\n",
       "    </tr>\n",
       "    <tr>\n",
       "      <th>3</th>\n",
       "      <td>2016-08-20 01:00:00.000</td>\n",
       "      <td>306.06</td>\n",
       "    </tr>\n",
       "    <tr>\n",
       "      <th>4</th>\n",
       "      <td>2016-08-19 21:00:00.000</td>\n",
       "      <td>305.90</td>\n",
       "    </tr>\n",
       "  </tbody>\n",
       "</table>\n",
       "</div>"
      ],
      "text/plain": [
       "                  datetime  Vancouver\n",
       "0  2016-08-19 23:00:00.000     307.00\n",
       "1  2016-08-19 22:00:00.000     306.69\n",
       "2  2016-08-20 00:00:00.000     306.69\n",
       "3  2016-08-20 01:00:00.000     306.06\n",
       "4  2016-08-19 21:00:00.000     305.90"
      ]
     },
     "execution_count": 6,
     "metadata": {},
     "output_type": "execute_result"
    }
   ],
   "source": [
    "dataset.head()"
   ]
  },
  {
   "cell_type": "code",
   "execution_count": 9,
   "id": "6d601b80",
   "metadata": {},
   "outputs": [],
   "source": [
    "#the sql query\n",
    "\n",
    "# SELECT TOP (1000) [datetime]\n",
    "#       ,[Vancouver]\n",
    "#       ,[Portland]\n",
    "#       ,[San Francisco]\n",
    "#       ,[Seattle]\n",
    "#       ,[Los Angeles]\n",
    "#       ,[San Diego]\n",
    "#       ,[Las Vegas]\n",
    "#       ,[Phoenix]\n",
    "#       ,[Albuquerque]\n",
    "#       ,[Denver]\n",
    "#       ,[San Antonio]\n",
    "#       ,[Dallas]\n",
    "#       ,[Houston]\n",
    "#       ,[Kansas City]\n",
    "#       ,[Minneapolis]\n",
    "#       ,[Saint Louis]\n",
    "#       ,[Chicago]\n",
    "#       ,[Nashville]\n",
    "#       ,[Indianapolis]\n",
    "#       ,[Atlanta]\n",
    "#       ,[Detroit]\n",
    "#       ,[Jacksonville]\n",
    "#       ,[Charlotte]\n",
    "#       ,[Miami]\n",
    "#       ,[Pittsburgh]\n",
    "#       ,[Toronto]\n",
    "#       ,[Philadelphia]\n",
    "#       ,[New York]\n",
    "#       ,[Montreal]\n",
    "#       ,[Boston]\n",
    "#       ,[Beersheba]\n",
    "#       ,[Tel Aviv District]\n",
    "#       ,[Eilat]\n",
    "#       ,[Haifa]\n",
    "#       ,[Nahariyya]\n",
    "#       ,[Jerusalem]\n",
    "#   FROM [Data-Mining].[dbo].[temperature$]\n",
    "#   ;WITH consecutiveValues AS (\n",
    "#   SELECT *, Vancouver - ROW_NUMBER() OVER (ORDER BY Vancouver) AS dataGrouping\n",
    "#   FROM  [Data-Mining].[dbo].[temperature$]\n",
    "#   WHERE [Vancouver] > 9\n",
    "# ),\n",
    "# valuesCounted AS (\n",
    "#   SELECT *, COUNT(*) OVER (PARTITION BY dataGrouping) AS consecutiveValueCount\n",
    "#   FROM consecutiveValues\n",
    "# )\n",
    "\n",
    "# SELECT datetime, [Vancouver]\n",
    "# FROM valuesCounted\n",
    "# WHERE consecutiveValueCount >= 1"
   ]
  }
 ],
 "metadata": {
  "kernelspec": {
   "display_name": "Python 3",
   "language": "python",
   "name": "python3"
  },
  "language_info": {
   "codemirror_mode": {
    "name": "ipython",
    "version": 3
   },
   "file_extension": ".py",
   "mimetype": "text/x-python",
   "name": "python",
   "nbconvert_exporter": "python",
   "pygments_lexer": "ipython3",
   "version": "3.8.8"
  }
 },
 "nbformat": 4,
 "nbformat_minor": 5
}
